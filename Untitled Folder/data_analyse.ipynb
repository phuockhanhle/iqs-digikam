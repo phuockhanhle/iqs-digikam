{
 "cells": [
  {
   "cell_type": "code",
   "execution_count": 12,
   "id": "2351609b",
   "metadata": {},
   "outputs": [],
   "source": [
    "import pandas as pd\n",
    "import matplotlib.pyplot as plt\n",
    "import statistics\n",
    "from typing import List, Any,Dict\n",
    "import json"
   ]
  },
  {
   "cell_type": "markdown",
   "id": "5ac5e5cb",
   "metadata": {},
   "source": [
    "## tool function"
   ]
  },
  {
   "cell_type": "code",
   "execution_count": 6,
   "id": "cdb1911f",
   "metadata": {},
   "outputs": [],
   "source": [
    "def load_json(file_path: str):\n",
    "    with open(file_path, 'r') as f:\n",
    "        return json.load(f)\n",
    "    \n",
    "def load_property(data: List[Dict[str, Any]], prop: str):\n",
    "    res = []\n",
    "    for ex in data:\n",
    "        res.append(ex[prop])\n",
    "    return res"
   ]
  },
  {
   "cell_type": "code",
   "execution_count": 7,
   "id": "6adfc241",
   "metadata": {},
   "outputs": [],
   "source": [
    "def get_distribution_of_list(list_score: List[float], nb_bins=10):\n",
    "    print(f\"mean of score : {sum(list_score) / len(list_score)}\")\n",
    "    print(f\"variance : {statistics.pstdev(list_score)}\")\n",
    "    plt.hist(list_score, bins=nb_bins)\n",
    "    plt.show()"
   ]
  },
  {
   "cell_type": "markdown",
   "id": "603e6dc9",
   "metadata": {},
   "source": [
    "### analyse EVA dataset "
   ]
  },
  {
   "cell_type": "code",
   "execution_count": 20,
   "id": "03483447",
   "metadata": {},
   "outputs": [
    {
     "name": "stdout",
     "output_type": "stream",
     "text": [
      "mean of score : 6.162863247518352\n",
      "variance : 1.0941170382974874\n"
     ]
    },
    {
     "data": {
      "image/png": "[encoded data removed]",
      "text/plain": [
       "<Figure size 432x288 with 1 Axes>"
      ]
     },
     "metadata": {
      "needs_background": "light"
     },
     "output_type": "display_data"
    }
   ],
   "source": [
    "EVA_data = load_json(\"../data/EVA_dataset/NIMA_config/samples_test.json\") + load_json(\"../data/EVA_dataset/NIMA_config/samples_train.json\")\n",
    "list_score = load_property(EVA_data, \"score\")\n",
    "get_distribution_of_list(list_score)"
   ]
  },
  {
   "cell_type": "code",
   "execution_count": 22,
   "id": "6f54ced3",
   "metadata": {},
   "outputs": [
    {
     "data": {
      "text/plain": [
       "8136"
      ]
     },
     "execution_count": 22,
     "metadata": {},
     "output_type": "execute_result"
    }
   ],
   "source": [
    "len(EVA_data)"
   ]
  },
  {
   "cell_type": "markdown",
   "id": "db96370b",
   "metadata": {},
   "source": [
    "### analyse AVA dataset "
   ]
  },
  {
   "cell_type": "code",
   "execution_count": 19,
   "id": "839393ee",
   "metadata": {},
   "outputs": [
    {
     "name": "stdout",
     "output_type": "stream",
     "text": [
      "mean of score : 5.450496578934273\n",
      "variance : 0.751374811080452\n"
     ]
    },
    {
     "data": {
      "image/png": "[encoded data removed]",
      "text/plain": [
       "<Figure size 432x288 with 1 Axes>"
      ]
     },
     "metadata": {
      "needs_background": "light"
     },
     "output_type": "display_data"
    }
   ],
   "source": [
    "AVA_data = load_json(\"../data/AVA_dataset/NIMA_config/samples_test.json\") + load_json(\"../data/AVA_dataset/NIMA_config/samples_train.json\")\n",
    "list_score = load_property(AVA_data, \"score\")\n",
    "get_distribution_of_list(list_score, 20)"
   ]
  },
  {
   "cell_type": "code",
   "execution_count": 24,
   "id": "03539c4f",
   "metadata": {},
   "outputs": [
    {
     "data": {
      "text/plain": [
       "39851"
      ]
     },
     "execution_count": 24,
     "metadata": {},
     "output_type": "execute_result"
    }
   ],
   "source": [
    "len(AVA_data)"
   ]
  },
  {
   "cell_type": "code",
   "execution_count": null,
   "id": "3ffb64e9",
   "metadata": {},
   "outputs": [],
   "source": []
  }
 ],
 "metadata": {
  "kernelspec": {
   "display_name": "Python 3 (ipykernel)",
   "language": "python",
   "name": "python3"
  },
  "language_info": {
   "codemirror_mode": {
    "name": "ipython",
    "version": 3
   },
   "file_extension": ".py",
   "mimetype": "text/x-python",
   "name": "python",
   "nbconvert_exporter": "python",
   "pygments_lexer": "ipython3",
   "version": "3.9.7"
  }
 },
 "nbformat": 4,
 "nbformat_minor": 5
}
